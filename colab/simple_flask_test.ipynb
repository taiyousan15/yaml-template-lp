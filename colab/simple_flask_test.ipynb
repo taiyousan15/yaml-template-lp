{
 "cells": [
  {
   "cell_type": "markdown",
   "metadata": {},
   "source": [
    "# シンプルなFlask API + Cloudflare Tunnel テスト\n",
    "\n",
    "最小限のFlask APIサーバーをGoogle Colabで公開する例です。"
   ]
  },
  {
   "cell_type": "markdown",
   "metadata": {},
   "source": [
    "## 1. 必要なパッケージのインストール"
   ]
  },
  {
   "cell_type": "code",
   "execution_count": null,
   "metadata": {},
   "outputs": [],
   "source": [
    "!pip install -q flask flask-cors\n",
    "!wget -q https://github.com/cloudflare/cloudflared/releases/latest/download/cloudflared-linux-amd64.deb\n",
    "!sudo dpkg -i cloudflared-linux-amd64.deb\n",
    "!rm cloudflared-linux-amd64.deb\n",
    "\n",
    "print(\"✅ インストール完了\")"
   ]
  },
  {
   "cell_type": "markdown",
   "metadata": {},
   "source": [
    "## 2. Flask APIサーバーの定義"
   ]
  },
  {
   "cell_type": "code",
   "execution_count": null,
   "metadata": {},
   "outputs": [],
   "source": [
    "from flask import Flask, request, jsonify\n",
    "from flask_cors import CORS\n",
    "\n",
    "app = Flask(__name__)\n",
    "CORS(app)  # CORS対応（重要！）\n",
    "\n",
    "@app.route(\"/api\", methods=[\"POST\"])\n",
    "def api():\n",
    "    data = request.json\n",
    "    return jsonify({\"message\": \"Hello from Colab!\", \"data\": data})\n",
    "\n",
    "@app.route(\"/health\", methods=[\"GET\"])\n",
    "def health():\n",
    "    return jsonify({\"status\": \"ok\", \"service\": \"Simple Flask API\"})\n",
    "\n",
    "print(\"✅ Flask アプリ定義完了\")"
   ]
  },
  {
   "cell_type": "markdown",
   "metadata": {},
   "source": [
    "## 3. Flaskサーバー + Cloudflare Tunnelの起動"
   ]
  },
  {
   "cell_type": "code",
   "execution_count": null,
   "metadata": {},
   "outputs": [],
   "source": [
    "import threading\n",
    "import subprocess\n",
    "import time\n",
    "import re\n",
    "\n",
    "# Flaskをバックグラウンドで起動\n",
    "def run_flask():\n",
    "    app.run(host='0.0.0.0', port=5000, debug=False)\n",
    "\n",
    "flask_thread = threading.Thread(target=run_flask, daemon=True)\n",
    "flask_thread.start()\n",
    "\n",
    "# Flaskが起動するまで待機\n",
    "time.sleep(3)\n",
    "print(\"✅ Flaskサーバー起動完了\")\n",
    "\n",
    "# Cloudflare Tunnelを起動\n",
    "print(\"\\n🌐 Cloudflare Tunnelを起動中...\\n\")\n",
    "\n",
    "cloudflared_process = subprocess.Popen(\n",
    "    ['cloudflared', 'tunnel', '--url', 'http://localhost:5000'],\n",
    "    stdout=subprocess.PIPE,\n",
    "    stderr=subprocess.STDOUT,\n",
    "    universal_newlines=True\n",
    ")\n",
    "\n",
    "# Cloudflare URLを取得\n",
    "public_url = None\n",
    "for line in cloudflared_process.stdout:\n",
    "    print(line.strip())\n",
    "    \n",
    "    # URLを抽出\n",
    "    if 'trycloudflare.com' in line:\n",
    "        match = re.search(r'https://[a-zA-Z0-9-]+\\.trycloudflare\\.com', line)\n",
    "        if match:\n",
    "            public_url = match.group(0)\n",
    "            break\n",
    "\n",
    "if public_url:\n",
    "    print(\"\\n\" + \"=\"*60)\n",
    "    print(\"🎉 APIサーバー起動完了！\")\n",
    "    print(\"=\"*60)\n",
    "    print(f\"\\n📡 公開URL: {public_url}\")\n",
    "    print(f\"\\n✅ ヘルスチェック:\")\n",
    "    print(f\"   curl {public_url}/health\")\n",
    "    print(f\"\\n✅ APIテスト:\")\n",
    "    print(f\"   curl -X POST {public_url}/api \\\\\")\n",
    "    print(f\"     -H 'Content-Type: application/json' \\\\\")\n",
    "    print(f\"     -d '{{\\\"test\\\": \\\"data\\\"}}'\")\n",
    "    print(\"\\n\" + \"=\"*60 + \"\\n\")\n",
    "    \n",
    "    # サーバーを稼働し続ける\n",
    "    try:\n",
    "        cloudflared_process.wait()\n",
    "    except KeyboardInterrupt:\n",
    "        print(\"\\n⏹️  サーバーを停止しました\")\n",
    "        cloudflared_process.terminate()\n",
    "else:\n",
    "    print(\"\\n⚠️ Cloudflare URLの取得に失敗しました\")"
   ]
  },
  {
   "cell_type": "markdown",
   "metadata": {},
   "source": [
    "## 4. テスト（別のセルで実行）"
   ]
  },
  {
   "cell_type": "code",
   "execution_count": null,
   "metadata": {},
   "outputs": [],
   "source": [
    "import requests\n",
    "\n",
    "# 上で表示された公開URLを設定\n",
    "API_URL = \"YOUR_CLOUDFLARE_URL\"  # 例: https://xxxx.trycloudflare.com\n",
    "\n",
    "if API_URL != \"YOUR_CLOUDFLARE_URL\":\n",
    "    # ヘルスチェック\n",
    "    print(\"🔍 ヘルスチェック...\")\n",
    "    response = requests.get(f\"{API_URL}/health\")\n",
    "    print(f\"Status: {response.status_code}\")\n",
    "    print(f\"Response: {response.json()}\")\n",
    "    \n",
    "    print(\"\\n🔍 APIテスト...\")\n",
    "    # APIテスト\n",
    "    response = requests.post(\n",
    "        f\"{API_URL}/api\",\n",
    "        json={\"test\": \"data\", \"message\": \"Hello from client!\"}\n",
    "    )\n",
    "    print(f\"Status: {response.status_code}\")\n",
    "    print(f\"Response: {response.json()}\")\n",
    "else:\n",
    "    print(\"⚠️ API_URLを設定してください\")"
   ]
  }
 ],
 "metadata": {
  "kernelspec": {
   "display_name": "Python 3",
   "language": "python",
   "name": "python3"
  },
  "language_info": {
   "name": "python",
   "version": "3.10.0"
  }
 },
 "nbformat": 4,
 "nbformat_minor": 0
}
