{
 "cells": [
  {
   "cell_type": "markdown",
   "metadata": {},
   "source": [
    "# 最小構成: Flask + Cloudflare Tunnel\n",
    "\n",
    "たった2つのセルでAPIサーバーを公開します。"
   ]
  },
  {
   "cell_type": "markdown",
   "metadata": {},
   "source": [
    "## セル1: インストール + Flask起動"
   ]
  },
  {
   "cell_type": "code",
   "execution_count": null,
   "metadata": {},
   "outputs": [],
   "source": [
    "# インストール\n",
    "!pip install -q flask flask-cors\n",
    "!wget -q https://github.com/cloudflare/cloudflared/releases/latest/download/cloudflared-linux-amd64.deb\n",
    "!sudo dpkg -i cloudflared-linux-amd64.deb\n",
    "\n",
    "# Flask API\n",
    "from flask import Flask, request, jsonify\n",
    "from flask_cors import CORS\n",
    "import threading\n",
    "\n",
    "app = Flask(__name__)\n",
    "CORS(app)\n",
    "\n",
    "@app.route(\"/api\", methods=[\"POST\"])\n",
    "def api():\n",
    "    data = request.json\n",
    "    return jsonify({\"message\": \"Hello from Colab!\", \"data\": data})\n",
    "\n",
    "@app.route(\"/health\", methods=[\"GET\"])\n",
    "def health():\n",
    "    return jsonify({\"status\": \"ok\"})\n",
    "\n",
    "# バックグラウンドで起動\n",
    "def run():\n",
    "    app.run(host='0.0.0.0', port=8000)\n",
    "\n",
    "threading.Thread(target=run, daemon=True).start()\n",
    "\n",
    "print(\"✅ Flask起動完了 (port 8000)\")\n",
    "print(\"次のセルでCloudflare Tunnelを起動してください\")"
   ]
  },
  {
   "cell_type": "markdown",
   "metadata": {},
   "source": [
    "## セル2: Cloudflare Tunnel起動"
   ]
  },
  {
   "cell_type": "code",
   "execution_count": null,
   "metadata": {},
   "outputs": [],
   "source": [
    "!cloudflared tunnel --url http://localhost:8000"
   ]
  },
  {
   "cell_type": "markdown",
   "metadata": {},
   "source": [
    "## 使い方\n",
    "\n",
    "1. **セル1を実行** → Flaskサーバーが起動\n",
    "2. **セル2を実行** → Cloudflare URLが表示される\n",
    "\n",
    "表示されるURL（例: `https://xxxx.trycloudflare.com`）をコピーして使用してください。\n",
    "\n",
    "### テスト方法:\n",
    "\n",
    "```bash\n",
    "# ヘルスチェック\n",
    "curl https://xxxx.trycloudflare.com/health\n",
    "\n",
    "# APIテスト\n",
    "curl -X POST https://xxxx.trycloudflare.com/api \\\n",
    "  -H 'Content-Type: application/json' \\\n",
    "  -d '{\"name\": \"test\"}'\n",
    "```\n",
    "\n",
    "### 出力例:\n",
    "\n",
    "```\n",
    "2024-01-15T12:34:56Z INF Thank you for trying Cloudflare Tunnel...\n",
    "2024-01-15T12:34:56Z INF Your quick Tunnel has been created! Visit it at:\n",
    "2024-01-15T12:34:56Z INF https://xxxx-yyyy-zzzz.trycloudflare.com\n",
    "```\n",
    "\n",
    "このURLがあなたのAPIの公開URLです！"
   ]
  }
 ],
 "metadata": {
  "kernelspec": {
   "display_name": "Python 3",
   "language": "python",
   "name": "python3"
  },
  "language_info": {
   "name": "python",
   "version": "3.10.0"
  }
 },
 "nbformat": 4,
 "nbformat_minor": 0
}
